{
 "cells": [
  {
   "cell_type": "markdown",
   "metadata": {},
   "source": [
    "# Цифровая обработка сигналов - 3\n",
    "\n",
    "| **Title**         | Digital signal processing |\n",
    "| --- | --- |\n",
    "| **Author**        | Alexander Kapitanov       |\n",
    "| **Contact**       | sallador@bk.ru            |\n",
    "| **Project lang**  | Python                    |\n",
    "| **Packages**      | numpy, scipy, matplotlib  |\n",
    "| **License**       | GNU GPL 3.0               |\n",
    "\n",
    "\n",
    "## Введение\n",
    "\n",
    "Перед вами обучающий материал по основам **цифровой обработки сигналов** с использованием средств языка программирования Python. Предполагается, что читатель имеет базовые знания из области высшей математики, а также владеет языком Python и хотя бы поверхностно знает различные python-библиотеки - numpy/scipy, matplotlib и другие. \n",
    "\n",
    "Для пользователей MATLAB / GNU Octave освоение материала с точки зрения программного кода не составит труда, поскольку основные функции и их атрибуты во многом идентичны и схожи с методами из python-библиотек.\n",
    "\n",
    "## Свертка и корреляция\n",
    "\n",
    "В реальных задачах часто ставится вопрос о степени похожести одного процесса на другого или же о независимости одного процесса от другого. Иными словами, требуется определить взаимосвязь между сигналами, то есть найти корреляцию.  \n",
    "\n",
    "Методы корреляции используются в широком диапазоне задач: поиск сигналов, компьютерное зрение и обработка изображений, в задачах радиолокации для определения характеристик целей и определения расстрояния до объекта. Кроме того, с помощью корреляции производится поиск слабых сигналов в шумах.\n",
    "\n",
    "В раздлеле фильтрация сигналов вводилось понятие импульсной характеристики фильтра. Напомним, что **импульсной характеристикой** $h(n)$ называется реакция цепи на входное воздействие в виде функции Дирака (δ-функции). Она отражает влияение цепи на сигнал.\n",
    "\n",
    "В задачах прохождения сигналов через различные цифровые узлы происходит свертка сигнала с импульсной характеристикой фильтра.\n",
    "\n",
    "*Корреляцию* между двумя сигналами можно вычислить как сумму произведений пар отсчетов исследуемых сигналов.  \n",
    "\n",
    "Если взять две абсолютно независимые случайные последовательности, то их сумма произведений стремится к нулю. Говорят, что такие сигналы обладают нулевой корреляцией. Причем, чем длиннее последовательности, тем сильнее результат стремится к нулевому значению.\n",
    "\n",
    "Корреляция бывает **положительной** и **отрицательной**. Положительная корреляция - большие значения одного сигнала связаны с большими значениями другого сигнала (увеличение одной переменной взаимосвязано с увеличением другой переменной). Отрицательную корреляцию проще всего понимать так: увеличение одной переменной связано с уменьшением другой переменной. \n",
    "\n",
    "Формула взаимной корреляции:\n",
    "\n",
    "$ r_{12} = \\frac{1}{N} \\sum_{n=0}^{N-1}x_1(n)x_2(n)$\n",
    "\n",
    "Нормирующий множитель $\\frac{1}{N}$ применяется для исключения влияния длительности последовательностей. \n",
    "\n",
    "В терминах функционального пространства сигналов корреляция может быть выражена как косинус угла между векторами. Следовательно, при полном совпадении сигналов степень их связи будет принимать положительное единичное значение, при полной противоположности сигналов - отрицательную единицу, а при полном несовпадении - нулевое значение."
   ]
  },
  {
   "cell_type": "code",
   "execution_count": 1,
   "metadata": {},
   "outputs": [],
   "source": [
    "import numpy as np\n",
    "import matplotlib.pyplot as plt\n",
    "\n",
    "from scipy.fftpack import fft, ifft\n",
    "\n",
    "%matplotlib inline"
   ]
  },
  {
   "cell_type": "markdown",
   "metadata": {},
   "source": [
    "Приведем примеры сигналов и найдем корреляцию между ними\n",
    "\n",
    "Положительная корреляция:"
   ]
  },
  {
   "cell_type": "code",
   "execution_count": 2,
   "metadata": {},
   "outputs": [
    {
     "data": {
      "text/plain": [
       "array([55])"
      ]
     },
     "execution_count": 2,
     "metadata": {},
     "output_type": "execute_result"
    }
   ],
   "source": [
    "# signal x1(n)\n",
    "x1 = np.array([1, 2, 3, 4, 5])\n",
    "\n",
    "# correlation\n",
    "np.correlate(x1, x1, mode='valid')"
   ]
  },
  {
   "cell_type": "code",
   "execution_count": 3,
   "metadata": {},
   "outputs": [
    {
     "data": {
      "text/plain": [
       "55"
      ]
     },
     "execution_count": 3,
     "metadata": {},
     "output_type": "execute_result"
    }
   ],
   "source": [
    "# signal x1(n)\n",
    "x1 = np.array([1, 2, 3, 4, 5])\n",
    "\n",
    "# correlation via sum\n",
    "np.sum(x1*x1)"
   ]
  },
  {
   "cell_type": "markdown",
   "metadata": {},
   "source": [
    "Как видно, встроенная функция `correlate()` для совпадающих сигналов вычисляет сумму произведений, что полностью согласуется с формулой.\n",
    "\n",
    "Отрицательная корреляция:"
   ]
  },
  {
   "cell_type": "code",
   "execution_count": 4,
   "metadata": {},
   "outputs": [
    {
     "data": {
      "text/plain": [
       "array([-55])"
      ]
     },
     "execution_count": 4,
     "metadata": {},
     "output_type": "execute_result"
    }
   ],
   "source": [
    "# signal x2(n)\n",
    "x2 = -1 * np.array([1, 2, 3, 4, 5])\n",
    "\n",
    "# correlation\n",
    "np.correlate(x1, x2, mode='valid')"
   ]
  },
  {
   "cell_type": "markdown",
   "metadata": {},
   "source": [
    "Разные сигналы:"
   ]
  },
  {
   "cell_type": "code",
   "execution_count": 5,
   "metadata": {},
   "outputs": [
    {
     "data": {
      "text/plain": [
       "array([10.])"
      ]
     },
     "execution_count": 5,
     "metadata": {},
     "output_type": "execute_result"
    }
   ],
   "source": [
    "# signal x1(n), x2(n)\n",
    "x1 = np.ones(5)      # [1, 1, 1, 1, 1]\n",
    "x2 = np.arange(5)    # [0, 1, 2, 3, 4]\n",
    "\n",
    "# correlation\n",
    "np.correlate(x1, x2, mode='valid')"
   ]
  },
  {
   "cell_type": "code",
   "execution_count": 6,
   "metadata": {},
   "outputs": [
    {
     "data": {
      "text/plain": [
       "10.0"
      ]
     },
     "execution_count": 6,
     "metadata": {},
     "output_type": "execute_result"
    }
   ],
   "source": [
    "np.sum(x1*x2)   # correlation as sum of products"
   ]
  },
  {
   "cell_type": "markdown",
   "metadata": {},
   "source": [
    "На практике, когда два сигнала коррелируют, их взаимное расположение во времени - неизвестно. Сигналы могут иметь одинаковую форму, но задержаны друг относительно друга. В связи с этим, для установления максимальной корреляции, её требуется находить для нескольких задержек.\n",
    "\n",
    "### Случайные сигналы\n",
    "\n",
    "Найдем корреляцию двух псевдослучайных процессов.\n",
    "\n",
    "Параметр `seed()` задает начальное условие для случайного процесса. Если установить какое-либо число, то при вызове любой функции случайного числа будет генерироваться предопределенный набор чисел (псевдослучайный).\n",
    "\n",
    "С помощью метода `randint()` из библиотеки `numpy.random` зададим случайную последовательность целых чисел.\n",
    "\n",
    "Случайные процессы с нулевой корреляцией:"
   ]
  },
  {
   "cell_type": "code",
   "execution_count": 7,
   "metadata": {},
   "outputs": [
    {
     "name": "stdout",
     "output_type": "stream",
     "text": [
      "No correlation, r12 = [0].\n"
     ]
    },
    {
     "data": {
      "image/png": "[encoded data removed]",
      "text/plain": [
       "<Figure size 864x288 with 1 Axes>"
      ]
     },
     "metadata": {
      "needs_background": "light"
     },
     "output_type": "display_data"
    }
   ],
   "source": [
    "N = 20\n",
    "# No correlation. Seed for all random process\n",
    "np.random.seed(1)\n",
    "x1 = np.random.randint(-10, 10, N)\n",
    "x2 = np.random.randint(-10, 10, N)\n",
    "\n",
    "# correlation\n",
    "r12 = np.correlate(x1, x2, mode='valid')\n",
    "\n",
    "# plot results\n",
    "plt.figure(figsize=(12, 4))\n",
    "plt.plot(x1, '-o', linewidth=0.1, markersize=8)\n",
    "plt.plot(x2, '-s', linewidth=0.1, markersize=8)\n",
    "plt.xlim([-0.5, N-0.5])\n",
    "plt.grid(True)\n",
    "\n",
    "print('No correlation, r12 = {}.'.format(r12))"
   ]
  },
  {
   "cell_type": "markdown",
   "metadata": {},
   "source": [
    "Случайные процессы с ненулевой корреляцией:"
   ]
  },
  {
   "cell_type": "code",
   "execution_count": 8,
   "metadata": {},
   "outputs": [
    {
     "name": "stdout",
     "output_type": "stream",
     "text": [
      "Correlation, r12 = [-164].\n"
     ]
    },
    {
     "data": {
      "image/png": "[encoded data removed]",
      "text/plain": [
       "<Figure size 864x288 with 1 Axes>"
      ]
     },
     "metadata": {
      "needs_background": "light"
     },
     "output_type": "display_data"
    }
   ],
   "source": [
    "N = 20\n",
    "# Correlation\n",
    "np.random.seed(1)\n",
    "x1 = np.random.randint(-10, 10, N)\n",
    "np.random.seed(2)\n",
    "x2 = np.random.randint(-10, 10, N)\n",
    "\n",
    "# correlation\n",
    "r12 = np.correlate(x1, x2, mode='valid')\n",
    "\n",
    "# plot results\n",
    "plt.figure(figsize=(12, 4))\n",
    "plt.plot(x1, '-o', linewidth=0.1, markersize=8)\n",
    "plt.plot(x2, '-s', linewidth=0.1, markersize=8)\n",
    "plt.xlim([-0.5, N-0.5])\n",
    "plt.grid(True)\n",
    "\n",
    "print('Correlation, r12 = {}.'.format(r12))"
   ]
  },
  {
   "cell_type": "markdown",
   "metadata": {},
   "source": [
    "Фильтрующее свойство **дельта-функции** в процессе вычисления корреляции позволяет найти значение сигнала в момент, когда дельта-функция не равна 0:"
   ]
  },
  {
   "cell_type": "code",
   "execution_count": 9,
   "metadata": {},
   "outputs": [
    {
     "name": "stdout",
     "output_type": "stream",
     "text": [
      "Correlation, r12 = [-1.79343559].\n"
     ]
    },
    {
     "data": {
      "image/png": "[encoded data removed]",
      "text/plain": [
       "<Figure size 864x288 with 1 Axes>"
      ]
     },
     "metadata": {
      "needs_background": "light"
     },
     "output_type": "display_data"
    }
   ],
   "source": [
    "N = 10\n",
    "# delta-function\n",
    "x1 = np.zeros(N)\n",
    "x1[4] = 1\n",
    "# random signal\n",
    "np.random.seed(2)\n",
    "x2 = np.random.randn(N)\n",
    "\n",
    "# correlation\n",
    "r12 = np.correlate(x1, x2, mode='valid')\n",
    "\n",
    "# plot results\n",
    "plt.figure(figsize=(12, 4))\n",
    "plt.plot(x1, '-o', linewidth=0.1, markersize=8)\n",
    "plt.plot(x2, '-s', linewidth=0.1, markersize=8)\n",
    "plt.xlim([-0.5, N-0.5])\n",
    "plt.grid(True)\n",
    "\n",
    "print('Correlation, r12 = {}.'.format(r12))"
   ]
  },
  {
   "cell_type": "markdown",
   "metadata": {},
   "source": [
    "### Автокорреляционная функция\n",
    "\n",
    "Автокорреляционная функция (АКФ) - показывает зависимость между сигналом и его копией, сдвинутой по времени. \n",
    "\n",
    "АКФ находит применение в кодировании информации. Выбор кодирующей последовательности по параметрам длины, частоты и формы во многом обусловлен корреляционными свойствами этой последовательности. Наилучшая кодовая последовательность обладает наименьшим значением вероятности ложного обнаружения или срабатывания (для детектирования сигналов, для пороговых устройств) или ложной синхронизации (для передачи и приема кодовых последовательностей).\n",
    "\n",
    "Автокорреляционная функция помогает находить повторяющиеся участки во временной последовательности, с помощью АКФ можно находить несущую частоту сигнала.\n",
    "\n",
    "Поскольку АКФ есть произведение сигнала и его копии, то физический смысл АКФ - энергия сигнала. В частности, в нулевой момент времени (`n = 0`) АКФ  равна энергии сигнала.\n",
    "\n",
    "В numpy нет встроенной функции автокорреляции, но её несложно написать самому на базе функции `correlate()`.\n",
    "\n",
    "### Свойства АКФ\n",
    "\n",
    "1. АКФ это симметричная и четная функция.\n",
    "3. Имеет максимум в нуле.\n",
    "4. АКФ периодической последовательности - периодическая функция.\n",
    "5. АКФ суммы двух некореллированных сигналов - сумма АКФ этих сигналов.\n",
    "6. АКФ бесконечного во времени белого шума имеет пик в нулевом значении и нули во всех остальных.\n",
    "\n",
    "### АКФ прямоугольного импульса\n",
    "\n",
    "Пример: Автокорреляционная функция прямоугольного импульса - треугольный сигнал. Ниже будет показано, что корреляция и свертка сигнала с самим собой даёт одинаковый результат."
   ]
  },
  {
   "cell_type": "code",
   "execution_count": 10,
   "metadata": {},
   "outputs": [
    {
     "data": {
      "image/png": "[encoded data removed]",
      "text/plain": [
       "<Figure size 864x360 with 2 Axes>"
      ]
     },
     "metadata": {
      "needs_background": "light"
     },
     "output_type": "display_data"
    }
   ],
   "source": [
    "# Auto-correlation function\n",
    "def auto_corr(x):\n",
    "    res = np.correlate(x, x, mode='same')\n",
    "    return res  # / np.max(res)\n",
    "\n",
    "# Signal\n",
    "x = np.concatenate([np.zeros(5), np.ones(5), np.zeros(5)])\n",
    "\n",
    "# ACF\n",
    "cfx = auto_corr(x)\n",
    "\n",
    "xl = [x, cfx]\n",
    "\n",
    "# Pot results\n",
    "plt.figure(figsize=(12, 5))\n",
    "for i in range(2):\n",
    "    plt.subplot(2, 1, i+1)\n",
    "    plt.stem(xl[i], linefmt='C0', markerfmt='D', use_line_collection=True)\n",
    "    plt.grid(True)\n",
    "    plt.xlim([-0.5, x.size-0.5])"
   ]
  },
  {
   "cell_type": "markdown",
   "metadata": {},
   "source": [
    "Поскольку вычисление АКФ прямым методом - трудозатратная операция (большое число операций умножения и сложения), выполняемая за $O(N^2)$, то во многих задачах встаёт вопрос о снижении качества корреляционных свойств в связи с уменьшением длины последовательности. Однако, с помощью быстрого преобразования Фурье (БПФ) можно свести вычислительную сложность к $O(Nlog(N)$. \n",
    "\n",
    "С помощью теоремы Винера-Хинчина, которая связывает АКФ сигнала и его спектральную плотность мощности, можно вычислить АКФ через двойное взятие БПФ сигнала.\n",
    "\n",
    "$\\Psi(\\tau) = Re[IFFT( | FFT(x) |^2 )]$\n",
    "\n",
    "____\n",
    "\n",
    "## Свертка\n",
    "\n",
    "**Свертка** описывает взаимодействие сигналов между собой. Если один из сигналов - импульсная характеристика фильтра, то свертка входной последовательности с импульсной характеристикой есть ни что иное, как реакция цепи на входное воздействие. Иными словами, результирующий сигнал отражает прохождение сигнала через фильтр. \n",
    "\n",
    "Как правило, выходной сигнал является запаздывающей (относительно входа) функцией. Кроме того, выходной сигнал может быть усилен или подавлен относительно входного сигнала. \n",
    "\n",
    "**Чтобы найти импульсную характеристику цифрового фильтра, необходимо подать на его вход единичный импульс (дельта-функцию), который равен 1 в одной точке и равен 0 во всех остальных точках**  \n",
    "\n",
    "### Свертка и корреляция\n",
    "\n",
    "Связь свертки и корреляции достаточно проста: свертка эквивалентна взаимной корреляции двух последовательностей, причем одна из последовательностей обращена во времени относительно другой. В случае с корреляцией, последовательности должны быть одинаковой длины. В случае свертки последовательности могут иметь разную длину, тогда этот процесс называется линейной сверткой. В случае, если длины последовательностей совпадают - это циклическая (круговая) свертка.\n",
    "\n",
    "### Свойства свертки\n",
    "\n",
    "1. **Коммутативность**: \n",
    "\n",
    "$a*b = b*a$\n",
    "\n",
    "Из этого выражения вытекает следующее утверждение:\n",
    "\n",
    "$ \\sum_{m=0}^{N-1}a(m)b(n-m) = \\sum_{m=0}^{N-1}a(n-m)b(n)$\n",
    "\n",
    "\n",
    "2. **Дистрибутивность**: \n",
    "\n",
    "$a*(b+c) = a*b + a*c$\n",
    "\n",
    "3. **Ассоциативность**: \n",
    "\n",
    "$a*(b*c) = (a*b)*c = (a*c)*b$\n",
    "\n",
    "\n",
    "Существует два типа свертки - линейная и циклическая (круговая).\n",
    "\n",
    "## Линейная свертка\n",
    "\n",
    "Линейная свертка двух сигналов $a(n)$ , где $n = 0, ..., N-1$ и $b(n)$,  где $n = 0, ..., M-1$ описывается уравнением:  \n",
    "\n",
    "$ s(n) = a*b = \\sum_{m=0}^{n}a(m)\\cdot b(n-m)$\n",
    "\n",
    "где \n",
    "- $n = 0, ..., N+M-2$ ,\n",
    "- $N$ - длина сигнала $a(n)$ , \n",
    "- $M$ - длина сигнала $b(n)$ ,\n",
    "\n",
    "Вычисление свертки - итеративный процесс, в котором сигналы сдвигают друг относительно друга, затем перемножают и складывают. Предполагается, что сигналы равны нулю вне заданных своих диапазонов, то есть $a(n) = 0$ при $N < n < 0$ и $b(n) = 0$ при $M < n < 0$.\n",
    "\n",
    "На следующем примере вычислим пошагово свертку сигналов:\n",
    "\n",
    "`a(n) = [1, 2, 3, 4], N = 4`\n",
    "\n",
    "`b(n) = [3, 2, 1], M = 4`\n",
    "\n",
    "Простейший алгоритм (через циклическую свёртку):\n",
    "\n",
    "1. Дополняем нулями слева первый сигнал до длины N+M-1.\n",
    "2. Инвертируем во времени второй сигнал.\n",
    "3. Дополняем нулями справа второй сигнал до длины N+M-1.\n",
    "4. В цикле от 0 до N+M-2 сдвигаем второй сигнал вправо (или первый сигнал влево)\n",
    "5. Вычисляем на каждом шаге цикла произведения элементов и подсчитываем сумму произведений.\n",
    "\n",
    "Сравним полученный результат и значения, вычисленные с помощью встроенной функции `convolve()` с параметром `mode='full'`."
   ]
  },
  {
   "cell_type": "code",
   "execution_count": 11,
   "metadata": {},
   "outputs": [
    {
     "name": "stdout",
     "output_type": "stream",
     "text": [
      "a(n) =  [1, 2, 3, 4]\n",
      "b(n) =  [3, 2, 1]\n",
      "\n",
      "a(n) * b(n) =  [ 3  8 14 20 11  4]\n",
      "np.convolve =  [ 3  8 14 20 11  4]\n",
      "True\n"
     ]
    }
   ],
   "source": [
    "# input parameters\n",
    "N, M = 4, 3\n",
    "\n",
    "# lists of data\n",
    "a = [1, 2, 3, 4]\n",
    "b = [3, 2, 1]\n",
    "\n",
    "# signals\n",
    "an = np.concatenate([np.zeros(M-1, dtype=int), a])\n",
    "bn = np.concatenate([b[::-1], np.zeros(N-1, dtype=int)])\n",
    "print('a(n) = ', a)\n",
    "print('b(n) = ', b)\n",
    "\n",
    "# Convolution with 'same' mode with list comprehension:\n",
    "ab = np.array([np.sum(an * np.roll(bn, i)) for i in range(N+M-1)])\n",
    "\n",
    "# simple way:\n",
    "# ab = []\n",
    "# for i in range(N+M-1):\n",
    "#     br = np.roll(bn, i)    # shift second signal\n",
    "#     sm = np.sum(an * br)   # calc sum of prods\n",
    "#     ab.append(sm)          # append new value to the list\n",
    "\n",
    "# Function convolution:\n",
    "print('\\na(n) * b(n) = ', ab)\n",
    "\n",
    "# Convolution with np.convolve method:\n",
    "cv = np.convolve(a,b, mode='full')\n",
    "print('np.convolve = ', cv)\n",
    "\n",
    "# Check conv method:\n",
    "ab_check = np.all(ab == cv)\n",
    "print(ab_check)"
   ]
  },
  {
   "cell_type": "markdown",
   "metadata": {},
   "source": [
    "### Пошаговое объяснение линейной свёртки\n",
    "\n",
    "Важно помнить, что второй сигнал сначала инвертируется слева направо, согласно формуле вычисления свертки!\n",
    "\n",
    "```\n",
    "Step 1:\n",
    "a = [0, 0, 1, 2, 3, 4]\n",
    "b = [1, 2, 3, 0, 0, 0]\n",
    "\n",
    "sum of prod = [3]\n",
    "\n",
    "Step 2:\n",
    "a = [0, 0, 1, 2, 3, 4]\n",
    "b = [0, 1, 2, 3, 0, 0]\n",
    "\n",
    "sum of prod = 1*2 + 2*3 = [8]\n",
    "\n",
    "Step 3:\n",
    "a = [0, 0, 1, 2, 3, 4]\n",
    "b = [0, 0, 1, 2, 3, 0]\n",
    "\n",
    "sum of prod = 1*1 + 2*2 + 3*3 = [14]\n",
    "\n",
    "Step 4:\n",
    "a = [0, 0, 1, 2, 3, 4]\n",
    "b = [0, 0, 0, 1, 2, 3]\n",
    "\n",
    "sum of prod = 1*2 + 2*3 + 3*4 = [20]\n",
    "\n",
    "Step 5:\n",
    "a = [0, 0, 1, 2, 3, 4]\n",
    "b = [3, 0, 0, 0, 1, 2]\n",
    "\n",
    "sum of prod = 1*3 + 2*4 = [11]\n",
    "\n",
    "Step 6:\n",
    "a = [0, 0, 1, 2, 3, 4]\n",
    "b = [2, 3, 0, 0, 0, 1]\n",
    "\n",
    "sum of prod = 1*4 = [4]\n",
    "\n",
    "Convolution seq = [3, 8, 14, 20, 11, 4]\n",
    "``` "
   ]
  },
  {
   "cell_type": "markdown",
   "metadata": {},
   "source": [
    "### Свёртка прямоугольного импульса\n",
    "\n",
    "Свёртка прямоугольного импульса с самим собой вырождается в сигнал треугольной формы. Как было показано выше, для автокорреляционной функции результат аналогичен:"
   ]
  },
  {
   "cell_type": "code",
   "execution_count": 12,
   "metadata": {
    "scrolled": true
   },
   "outputs": [
    {
     "data": {
      "image/png": "[encoded data removed]",
      "text/plain": [
       "<Figure size 864x360 with 2 Axes>"
      ]
     },
     "metadata": {
      "needs_background": "light"
     },
     "output_type": "display_data"
    }
   ],
   "source": [
    "# Signal\n",
    "x = np.concatenate([np.zeros(5), np.ones(5), np.zeros(5)])\n",
    "\n",
    "# Convolution\n",
    "cv = np.convolve(x, x, mode='same')\n",
    "xl = [x, cv]\n",
    "\n",
    "# Pot results\n",
    "plt.figure(figsize=(12, 5))\n",
    "for i in range(2):\n",
    "    plt.subplot(2, 1, i+1)\n",
    "    plt.stem(xl[i], linefmt='C0', markerfmt='D', use_line_collection=True)\n",
    "    plt.grid(True)\n",
    "    plt.xlim([-0.5, x.size-0.5])"
   ]
  },
  {
   "cell_type": "markdown",
   "metadata": {},
   "source": [
    "## Циклическая свёртка\n",
    "\n",
    "Циклическая (круговая) свертка отличается от линейной тем, что входные сигналы имеют одинаковую длительность $N$.\n",
    "\n",
    "Циклическая свертка двух сигналов $a(n)$ и $b(n)$, где $n = 0, ..., N-1$ ,  описывается уравнением:  \n",
    "\n",
    "$ s(n) = a*b = \\sum_{m=0}^{N-1}a(m)\\cdot b(n-m)$\n",
    "\n",
    "где $n = 0, ..., N-1$ , а число $N$ - длина сигнала $a(n)$ . Как видно, результат циклической свёртки имеет длину N.\n",
    "\n",
    "\n",
    "На следующем примере вычислим пошагово свертку сигналов:\n",
    "\n",
    "`a(n) = [1, 2, 3, 4]`\n",
    "\n",
    "`b(n) = [3, 2, 1, 0]`\n",
    "\n",
    "Алгоритм:\n",
    "\n",
    "1. Инвертируем второй сигнал,\n",
    "2. В цикле от 0 до N-1 сдвигаем второй сигнал вправо (или первый сигнал влево)\n",
    "3. Вычисляем на каждом шаге цикла произведения элементов и подсчитываем сумму произведений.\n",
    "\n",
    "Полученный результат не совпадает со встроенным методом `convolve()` с параметром `mode='same'` в связи с тем, что для этого метода в библиотеке numpy используется дополнение нулями."
   ]
  },
  {
   "cell_type": "code",
   "execution_count": 13,
   "metadata": {},
   "outputs": [
    {
     "name": "stdout",
     "output_type": "stream",
     "text": [
      "a(n) =  [1 2 3 4]\n",
      "b(n) =  [3 2 1 0]\n",
      "a(n) * b(n) =  [14 12 14 20]\n"
     ]
    }
   ],
   "source": [
    "# Input parameters\n",
    "N = 4\n",
    "\n",
    "# Signals\n",
    "an = np.array([1, 2, 3, 4], dtype=int)\n",
    "bn = np.array([3, 2, 1, 0], dtype=int)\n",
    "print('a(n) = ', an)\n",
    "print('b(n) = ', bn)\n",
    "\n",
    "# Convolution with list comprehension:\n",
    "ab = np.array([np.sum(an * np.roll(bn[::-1], i+1)) for i in range(N)])\n",
    "\n",
    "# simple way:\n",
    "# ab = []\n",
    "# for i in range(N):\n",
    "#     br = np.roll(bn, i+1)  # shift second signal\n",
    "#     sm = np.sum(an * br)   # calc sum of prods\n",
    "#     ab.append(sm)          # append new value to the list\n",
    "\n",
    "# Function convolution:\n",
    "print('a(n) * b(n) = ', ab)"
   ]
  },
  {
   "cell_type": "markdown",
   "metadata": {},
   "source": [
    "### Пошаговое объяснение циклической свёртки\n",
    "\n",
    "Первым шагом инвертируем сигнал b(n) и начинаем с -1 отсчета\n",
    "\n",
    "```\n",
    "Step 1:\n",
    "a = [1, 2, 3, 4]\n",
    "b = [3, 0, 1, 2]\n",
    "\n",
    "sum of prod = 1*3 + 1*3 + 2*4 = [14]\n",
    "\n",
    "Step 2:\n",
    "a = [1, 2, 3, 4]\n",
    "b = [2, 3, 0, 1]\n",
    "\n",
    "sum of prod = 1*2 + 2*3 + 1*4 = [12]\n",
    "\n",
    "Step 3:\n",
    "a = [1, 2, 3, 4]\n",
    "b = [1, 2, 3, 0]\n",
    "\n",
    "sum of prod = 1*1 + 2*2 + 3*3 = [14]\n",
    "\n",
    "Step 4:\n",
    "a = [1, 2, 3, 4]\n",
    "b = [0, 1, 2, 3]\n",
    "\n",
    "sum of prod = 1*2 + 2*3 + 3*4 = [20]\n",
    "\n",
    "Convolution seq = [14, 12, 14, 20]\n",
    "``` \n",
    "____\n",
    "\n",
    "\n",
    "В связи с тем, что в библиотеке numpy отсутствует встроенная функция для вычисления циклической свёртки, можно использовать свойство преобразования Фурье.\n",
    "\n",
    "### Свертка через БПФ\n",
    "\n",
    "Из предыдущих курсов, посвященных преобразованию Фурье, известно правило: \n",
    "\n",
    "**Свертка двух сигналов во временной области равна произведению их спектров в частотной области** \n",
    "\n",
    "$a(n) * b(n) = A(k) \\cdot B(k)$  \n",
    "\n",
    "Используя это правило, можно вычислить циклическую свертку двух сигналов. "
   ]
  },
  {
   "cell_type": "code",
   "execution_count": 14,
   "metadata": {},
   "outputs": [
    {
     "name": "stdout",
     "output_type": "stream",
     "text": [
      "circular convolution =  [14. 12. 14. 20.]\n",
      "True\n"
     ]
    }
   ],
   "source": [
    "# Convolution with IFFT of FFT(a) * FFT(b)\n",
    "def circle_conv(an, bn):\n",
    "    \"\"\"\n",
    "    Calculate circular convolution via FFTs. \n",
    "    Signals an & bn must have same shape.\n",
    "    You should import fft and ifft from scipy.fftpack.\n",
    "    \n",
    "    Parameters\n",
    "    ----------\n",
    "    an : np.array\n",
    "        real 1D numpy array\n",
    "    bn : np.array\n",
    "        real 1D numpy array\n",
    "    \"\"\"\n",
    "    return np.real(ifft(fft(an) * fft(bn)))\n",
    "\n",
    "\n",
    "# Input parameters\n",
    "N = 4\n",
    "\n",
    "# Signals\n",
    "an = np.array([1, 2, 3, 4], dtype=int)\n",
    "bn = np.array([3, 2, 1, 0], dtype=int)\n",
    "\n",
    "# Calculate circular convolution\n",
    "cv = circle_conv(an, bn)\n",
    "\n",
    "print('circular convolution = ', cv)\n",
    "\n",
    "# Check conv method\n",
    "ab_check = np.all(ab == cv)\n",
    "print(ab_check)"
   ]
  },
  {
   "cell_type": "markdown",
   "metadata": {},
   "source": [
    "Вычисление свёртки через БПФ имеет ряд преимуществ, одно из которых связано с количеством выполняемых операций при вычислении.\n",
    "\n",
    "Например, сигнал $a(n)$ имеет длину $N = 2000$, а сигнал $b(n)$ имеет длину $M = 8000$. Вычисление линейной свёртки потребует $N*M = 16.000.000$ операций умножения и сложения.\n",
    "\n",
    "Однако, если дополнить обе последовательности до $N_{FFT} = 8192$, то для вычисления БПФ потребуется $N\\cdot log_{2}(N) \\approx 106.000$ операций комплексного умножения (или в 4 раза больше операций вещественного умножения). \n",
    "\n",
    "Из формулы для вычисления свёртки через БПФ очевидно, что требуется три звена БПФ: два прямых БПФ для входных сигналов и одно обратное БПФ для произведения спектров сигналов. Комплексные умножения спектров вносят несущественный вклад (8192 комплексных умножения), поэтому результирующее оценочное значение количества операций $3 \\cdot 4 \\cdot N\\cdot log_{2}(N) \\approx 1.280.000$\n",
    "\n",
    "Полученное значение в **12.5** раз меньше, чем если бы пришлось вычислять линейную свёртку по формуле из определения.\n",
    "\n",
    "### Сравнение эффективности\n",
    "\n",
    "Ниже представлена таблица сравнения эффективности быстрой свертки и свертки, вычисляемой по прямой формуле. В таблице сравнивается число действительных умножений, требуемых для вычисления свертки.\n",
    "\n",
    "Как видно, для длин БПФ до 64, быстрая свёртка проигрывает у прямого метода. Однако, при увеличении длины БПФ результаты меняются в обратную сторону - быстрая свертка начинает выигрывать у прямого метода. Причем, чем больше длина БПФ, тем лучше выигрыш.\n",
    "\n",
    "| **N** | **Прямой метод** | **Быстрая свертка** | **Отношение** |\n",
    "| --- | --- | --- | --- | \n",
    "| 8   | 64  | 448    | 0.14 |\n",
    "| 16  | 256 | 1088   | 0.24 |\n",
    "| 32  | 1K  | 2560   | 0.4  |\n",
    "| 64  | 4K  | 5888   | 0.7  |\n",
    "| 128 | 16K | 13312  | 1.23 |\n",
    "| ... | ... | ...    | ...  |\n",
    "| 2K  | 4M  | 311296 | 13.5 |\n",
    "\n",
    "____"
   ]
  },
  {
   "cell_type": "markdown",
   "metadata": {},
   "source": [
    "### Список функций из пакета signal:\n",
    "\n",
    "Ниже приведен список основных функций из пакета **scipy** по тематике свертки и корреляции.\n",
    "\n",
    "**Свертка и корреляция**\n",
    "\n",
    "\n",
    "| **Function** | **Description** |\n",
    "| --- | --- | \n",
    "| `convolve(in1, in2[, mode, method])`                 | Свертка двух N-мерных массивов                     |\n",
    "| `correlate(in1, in2[, mode, method])`                | Кросс-корреляция двух N-мерных массивов            |\n",
    "| `fftconvolve(in1, in2[, mode, axes])`                | Свертка двух N-мерных массивов через БПФ           |\n",
    "| `convolve2d(in1, in2[, mode, boundary, fillvalue])`  | Свертка двух 2-мерных массивов                     |\n",
    "| `correlate2d(in1, in2[, mode, boundary, ...])`       | Корреляция двух 2-мерных массивов                  |\n",
    "| `sepfir2d(input, hrow, hcol)`                        | Свертка массива рангом 2 с характеристикой фильтра ранга 1. Функция может использоваться для поиска изображения по его B-сплайновому представлению.              |\n",
    "| `choose_conv_method(in1, in2[, mode, measure])`      | Поиск наибыстрейшего метода корреляции или свертки |\n"
   ]
  },
  {
   "cell_type": "code",
   "execution_count": 15,
   "metadata": {},
   "outputs": [
    {
     "data": {
      "image/png": "[encoded data removed]",
      "text/plain": [
       "<Figure size 864x576 with 3 Axes>"
      ]
     },
     "metadata": {
      "needs_background": "light"
     },
     "output_type": "display_data"
    }
   ],
   "source": [
    "from scipy import signal\n",
    "\n",
    "# Signal\n",
    "sig = np.repeat([0., 1., 0.], 200)\n",
    "# Window\n",
    "win = signal.kaiser(32, beta=11)\n",
    "# Filter by using convolve\n",
    "fil = signal.convolve(sig, win, mode='same') / np.sum(win)\n",
    "\n",
    "# list of frequencies\n",
    "f_list = [sig, win, fil]\n",
    "t_list = ['Signal', 'Window', 'Convolve']\n",
    "# Plot\n",
    "plt.figure(figsize=(12, 8))\n",
    "for i in range(3):\n",
    "    plt.subplot(3, 1, i+1)\n",
    "    plt.plot(f_list[i], '-', linewidth=2.0)\n",
    "    plt.title(t_list[i])\n",
    "    plt.xlabel('Samples')\n",
    "    plt.ylabel('Amplitude')\n",
    "    plt.xlim([0, f_list[i].size-1])\n",
    "    plt.grid()\n",
    "plt.tight_layout()"
   ]
  }
 ],
 "metadata": {
  "kernelspec": {
   "display_name": "Python 3",
   "language": "python",
   "name": "python3"
  },
  "language_info": {
   "codemirror_mode": {
    "name": "ipython",
    "version": 3
   },
   "file_extension": ".py",
   "mimetype": "text/x-python",
   "name": "python",
   "nbconvert_exporter": "python",
   "pygments_lexer": "ipython3",
   "version": "3.6.7"
  }
 },
 "nbformat": 4,
 "nbformat_minor": 2
}
