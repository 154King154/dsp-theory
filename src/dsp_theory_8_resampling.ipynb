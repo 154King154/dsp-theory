{
 "cells": [
  {
   "cell_type": "code",
   "execution_count": 1,
   "metadata": {},
   "outputs": [],
   "source": [
    "import numpy as np               # Import numpy \n",
    "import matplotlib.pyplot as plt  # Import matplotlib\n",
    "%matplotlib inline"
   ]
  },
  {
   "cell_type": "code",
   "execution_count": 2,
   "metadata": {},
   "outputs": [],
   "source": [
    "def cic_decim(x, R, N):\n",
    "    \"\"\"\n",
    "    \n",
    "    Cascaded Integrator-Comb (CIC) filter is an optimized class of \n",
    "    finite impulse response (FIR) filter. \n",
    "    CIC filter combines an interpolator or decimator, so it has some\n",
    "    parameters:\n",
    "\n",
    "    R - decimation or interpolation ratio,\n",
    "    N - number of stages in filter (or filter order)\n",
    "    M - number of samples per stage (1 or 2)*\n",
    "\n",
    "    * for this realisation of CIC filter just leave M = 1.\n",
    "\n",
    "    CIC filter is used in multi-rate processing. In hardware \n",
    "    applications CIC filter doesn't need multipliers, just only \n",
    "    adders / subtractors and delay lines.\n",
    "\n",
    "    Equation for 1st order CIC filter:\n",
    "    y[n] = x[n] - x[n-RM] + y[n-1].\n",
    "\n",
    "    Parameters\n",
    "    ----------\n",
    "    x : np.array\n",
    "        input signal\n",
    "    R : int\n",
    "        decimation rate\n",
    "    N : int\n",
    "        filter order\n",
    "    \"\"\"\n",
    "    \n",
    "    # integrator\n",
    "    for i in range(N):\n",
    "        x = np.cumsum(x)\n",
    "    # decimator\n",
    "    x = x[::R]\n",
    "    # comb stage\n",
    "    x = np.diff(x, n=N)\n",
    "    return x"
   ]
  },
  {
   "cell_type": "code",
   "execution_count": 3,
   "metadata": {},
   "outputs": [],
   "source": [
    "def cic_interp(x, R, N):\n",
    "    \"\"\"\n",
    "\n",
    "    Parameters\n",
    "    ----------\n",
    "    x : np.array\n",
    "        input signal\n",
    "    R : int\n",
    "        interpolation rate\n",
    "    N : int\n",
    "        filter order\n",
    "    \"\"\"\n",
    "    # comb stage\n",
    "    x = np.diff(x, n=N)\n",
    "    \n",
    "    # interpolation\n",
    "    y = []\n",
    "    for i in x:\n",
    "        y.append(i)\n",
    "        for j in range(R):\n",
    "            y.append(0)\n",
    "#     x = np.repeat(x, R)\n",
    "    # integrator\n",
    "    for i in range(N):\n",
    "        y = np.cumsum(y)\n",
    "        y /= R\n",
    "    return y"
   ]
  },
  {
   "cell_type": "code",
   "execution_count": 4,
   "metadata": {},
   "outputs": [
    {
     "data": {
      "image/png": "[encoded data removed]",
      "text/plain": [
       "<Figure size 1120x320 with 3 Axes>"
      ]
     },
     "metadata": {
      "needs_background": "light"
     },
     "output_type": "display_data"
    }
   ],
   "source": [
    "N = 40\n",
    "M = 3\n",
    "t = np.linspace(0, 1, N)\n",
    "a = np.sin(2*np.pi*3*t)\n",
    "\n",
    "y = cic_decim(a, M, 3)\n",
    "z = cic_interp(a, M, 3)\n",
    "\n",
    "plt.figure(figsize=(14, 4), dpi=80)\n",
    "plt.subplot(3,1,1)\n",
    "plt.stem(a, use_line_collection=True, basefmt='C0')\n",
    "plt.grid()\n",
    "plt.subplot(3,1,2)\n",
    "plt.stem(y, use_line_collection=True, basefmt='C0')\n",
    "plt.grid()\n",
    "plt.subplot(3,1,3)\n",
    "plt.stem(z, use_line_collection=True, basefmt='C0')\n",
    "plt.grid()\n"
   ]
  },
  {
   "cell_type": "code",
   "execution_count": null,
   "metadata": {},
   "outputs": [],
   "source": []
  }
 ],
 "metadata": {
  "kernelspec": {
   "display_name": "Python 3",
   "language": "python",
   "name": "python3"
  },
  "language_info": {
   "codemirror_mode": {
    "name": "ipython",
    "version": 3
   },
   "file_extension": ".py",
   "mimetype": "text/x-python",
   "name": "python",
   "nbconvert_exporter": "python",
   "pygments_lexer": "ipython3",
   "version": "3.6.7"
  }
 },
 "nbformat": 4,
 "nbformat_minor": 2
}
